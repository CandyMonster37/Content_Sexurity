{
 "cells": [
  {
   "cell_type": "code",
   "execution_count": 1,
   "id": "attended-tanzania",
   "metadata": {},
   "outputs": [],
   "source": [
    "from crawl import *"
   ]
  },
  {
   "cell_type": "code",
   "execution_count": 2,
   "id": "written-montgomery",
   "metadata": {},
   "outputs": [
    {
     "name": "stdout",
     "output_type": "stream",
     "text": [
      "url: http://bang.dangdang.com/books/fivestars/01.28.00.00.00.00-all-0-0-2-1\n",
      "get response successfully!  2021-04-08 09:50:16\n"
     ]
    }
   ],
   "source": [
    "url = 'http://bang.dangdang.com/books/fivestars/01.28.00.00.00.00-all-0-0-2-1'\n",
    "# 当当网> 图书榜 > 好评榜 > 哲学/宗教 > 累计榜 （列表视图）\n",
    "html = get_html(url)\n",
    "bs = BS(html, 'html.parser')"
   ]
  },
  {
   "cell_type": "code",
   "execution_count": 3,
   "id": "august-knowing",
   "metadata": {},
   "outputs": [
    {
     "name": "stdout",
     "output_type": "stream",
     "text": [
      "['基本演绎法', '西方美学史', '论语译注', '简单逻辑学 改变思维方式第一书 ', '季羡林谈人生', '资本论', '单独中的洞见', '易经杂说', '陈果：好的孤独', '老子他说', '美的历程（精装）', '每时每刻皆为逍遥时光', '懂你', '南怀瑾选集 (套装全十册)', '尼采的心灵咒语2', '菜根谭', '给快节奏时代的简单哲学', '做才是得到――索达吉堪布给你点滴加持', '天堂的证据', '次第花开 修订版']\n",
      "20\n"
     ]
    }
   ],
   "source": [
    "book = []\n",
    "book_path = 'body > div.bang_wrapper > div.bang_content > div.bang_list_box > ul > li > div.name > a'\n",
    "book_pre = bs.select(book_path)\n",
    "split_ = r'.*(?=（)'\n",
    "for item in book_pre:\n",
    "    pre = item.text\n",
    "    done = re.compile(split_).findall(pre)\n",
    "    if len(done) == 0:\n",
    "        done = pre\n",
    "    else:\n",
    "        done = done[0]\n",
    "    book.append(done)\n",
    "print(book)\n",
    "print(len(book))"
   ]
  },
  {
   "cell_type": "code",
   "execution_count": 4,
   "id": "anonymous-adventure",
   "metadata": {},
   "outputs": [
    {
     "name": "stdout",
     "output_type": "stream",
     "text": [
      "1 ['刘洪波, 李媛媛, 刘潋  著,酷威文化 出品', '\\r\\n               2020-08-01\\n', '四川文艺出版社']\n",
      "2 ['朱光潜，酷威文化 出品', '\\r\\n               2019-11-01\\n', '江苏凤凰文艺出版社']\n",
      "3 ['杨伯峻 译注', '\\r\\n               2017-08-01\\n', '中华书局']\n",
      "4 ['吴昱荣', '\\r\\n               2013-07-01\\n', '中国华侨出版社']\n",
      "5 ['季羡林 著，季羡林研究所 编', '\\r\\n               2009-03-01\\n', '当代中国出版社']\n",
      "6 ['马克思', '\\r\\n               2009-04-01\\n', '上海三联书店']\n",
      "7 ['张方宇，酷威文化 出品', '\\r\\n               2018-07-01\\n', '四川文艺出版社']\n",
      "8 ['南怀瑾', '\\r\\n               2013-09-01\\n', '复旦大学出版社']\n",
      "9 ['陈果  著；读客文化 出品', '\\r\\n               2017-04-19\\n', '江苏凤凰文艺出版社']\n",
      "10 ['南怀瑾  著述', '\\r\\n               2005-12-01\\n', '复旦大学出版社']\n",
      "11 ['李泽厚 著', '\\r\\n               2009-07-01\\n', '生活.读书.新知三联书店']\n",
      "12 ['费勇著', '\\r\\n               2014-07-01\\n', '江苏文艺出版社']\n",
      "13 ['陈果', '\\r\\n               2016-06-01\\n', '山东画报出版社']\n",
      "14 ['南怀瑾', '\\r\\n               2006-06-01\\n', '复旦大学出版社']\n",
      "15 ['(德) 尼采著', '\\r\\n               2013-10-01\\n', '江苏文艺出版社']\n",
      "16 ['（明）洪应明\\u3000著，韩世元\\u3000评析', '\\r\\n               2008-01-01\\n', '当代世界出版社']\n",
      "17 ['[英]阿兰・斯蒂芬 著，王亚庆 译，酷威文化 出品', '\\r\\n               2020-02-01\\n', '四川文艺出版社']\n",
      "18 ['索达吉堪布', '\\r\\n               2012-11-01\\n', '读者出版社']\n",
      "19 ['(美)亚历山大', '\\r\\n               2013-07-01\\n', '百花洲文艺出版社']\n",
      "20 ['希阿荣博堪布', '\\r\\n               2017-02-01\\n', '海南出版社']\n"
     ]
    }
   ],
   "source": [
    "author_org_path = 'body > div.bang_wrapper > div.bang_content > div.bang_list_box > ul > li > div.publisher_info'\n",
    "unit_ = bs.select(author_org_path)\n",
    "ls = 0\n",
    "for i in unit_:\n",
    "    undone = i.text.strip().split('/')\n",
    "    ls += 1\n",
    "    print(ls, undone)"
   ]
  },
  {
   "cell_type": "code",
   "execution_count": 5,
   "id": "blond-stone",
   "metadata": {},
   "outputs": [
    {
     "name": "stdout",
     "output_type": "stream",
     "text": [
      "20 20 20\n",
      "刘洪波, 李媛媛, 刘潋  著,酷威文化 出品\n",
      "2020-08-01\n",
      "四川文艺出版社\n"
     ]
    }
   ],
   "source": [
    "author = []\n",
    "year = []\n",
    "org = []\n",
    "for item in unit_:\n",
    "    undone = item.text.strip().split('/')\n",
    "    if len(undone[0]) == 0:\n",
    "        author_ = 'None'\n",
    "    else:\n",
    "        author_ = undone[0].strip('\\u3000')\n",
    "    author.append(author_)\n",
    "    if len(undone[1]) == 0:\n",
    "        year_ = 'None'\n",
    "    else:\n",
    "        year_ = undone[1].strip().strip('\\r').strip('\\n')\n",
    "    year.append(year_)\n",
    "    if len(undone[2]) == 0:\n",
    "        org_ = 'None'\n",
    "    else:\n",
    "        org_ = undone[2].strip('\\u3000')\n",
    "    org.append(org_)\n",
    "print(len(author), len(year), len(org))\n",
    "print(author[0])\n",
    "print(year[0])\n",
    "print(org[0])"
   ]
  },
  {
   "cell_type": "code",
   "execution_count": 6,
   "id": "expensive-constraint",
   "metadata": {},
   "outputs": [
    {
     "name": "stdout",
     "output_type": "stream",
     "text": [
      "1 ['¥34.30', '¥39.80', '8.6折']\n",
      "2 ['¥56.40', '¥78.00', '7.2折']\n",
      "3 ['¥16.90', '¥26.00', '6.5折']\n",
      "4 ['¥26.70', '¥29.80', '9.0折']\n",
      "5 ['¥13.60', '¥19.00', '7.2折']\n",
      "6 ['¥130.60', '¥158.00', '8.3折']\n",
      "7 ['¥33.10', '¥38.00', '8.7折']\n",
      "8 ['¥16.50', '¥21.00', '7.9折']\n",
      "9 ['¥36.00', '¥36.00', '10.0折']\n",
      "10 ['¥18.90', '¥24.00', '7.9折']\n",
      "11 ['¥33.90', '¥43.00', '7.9折']\n",
      "12 ['¥35.00', '¥35.00', '10.0折']\n",
      "13 ['¥12.00', '¥24.00', '5.0折']\n",
      "14 ['¥296.60', '¥412.00', '7.2折']\n",
      "15 ['¥22.10', '¥28.00', '7.9折']\n",
      "16 ['¥16.50', '¥20.00', '8.3折']\n",
      "17 ['¥34.70', '¥39.80', '8.7折']\n",
      "18 ['¥34.80', '¥38.00', '9.2折']\n",
      "19 ['¥25.20', '¥35.00', '7.2折']\n",
      "20 ['¥38.20', '¥39.80', '9.6折']\n"
     ]
    }
   ],
   "source": [
    "from lxml import etree\n",
    "ht = etree.HTML(html)\n",
    "\n",
    "html_data = ht.xpath(\"/html/body/div/div/div/ul/li/div/p[not(@class='ebook_line')]/span\")\n",
    "no = 0\n",
    "ls = 0\n",
    "\n",
    "while no < len(html_data):\n",
    "\n",
    "    tmp = []\n",
    "    bias = 0\n",
    "    while bias < 3:\n",
    "        tmp.append(html_data[no].text)\n",
    "        bias += 1\n",
    "        no += 1\n",
    "    ls += 1\n",
    "    print(ls, tmp)"
   ]
  },
  {
   "cell_type": "code",
   "execution_count": null,
   "id": "technological-contamination",
   "metadata": {},
   "outputs": [],
   "source": []
  },
  {
   "cell_type": "code",
   "execution_count": null,
   "id": "living-courage",
   "metadata": {},
   "outputs": [],
   "source": []
  },
  {
   "cell_type": "code",
   "execution_count": null,
   "id": "ordered-soviet",
   "metadata": {},
   "outputs": [],
   "source": []
  },
  {
   "cell_type": "code",
   "execution_count": null,
   "id": "modern-pantyhose",
   "metadata": {},
   "outputs": [],
   "source": []
  }
 ],
 "metadata": {
  "kernelspec": {
   "display_name": "Python 3",
   "language": "python",
   "name": "python3"
  },
  "language_info": {
   "codemirror_mode": {
    "name": "ipython",
    "version": 3
   },
   "file_extension": ".py",
   "mimetype": "text/x-python",
   "name": "python",
   "nbconvert_exporter": "python",
   "pygments_lexer": "ipython3",
   "version": "3.8.6"
  }
 },
 "nbformat": 4,
 "nbformat_minor": 5
}
