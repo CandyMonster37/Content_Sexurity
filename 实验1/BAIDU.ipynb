{
 "cells": [
  {
   "cell_type": "code",
   "execution_count": 1,
   "id": "matched-shepherd",
   "metadata": {},
   "outputs": [],
   "source": [
    "from crawl import *\n"
   ]
  },
  {
   "cell_type": "code",
   "execution_count": 2,
   "id": "helpful-observer",
   "metadata": {},
   "outputs": [
    {
     "name": "stdout",
     "output_type": "stream",
     "text": [
      "url: http://top.baidu.com/category?c=1\n",
      "get response successfully!  2021-04-07 21:03:03\n"
     ]
    }
   ],
   "source": [
    "url = \"http://top.baidu.com/category?c=1\"\n",
    "html = get_html(url)\n",
    "soup = BS(html, 'html.parser')"
   ]
  },
  {
   "cell_type": "code",
   "execution_count": 3,
   "id": "noted-offering",
   "metadata": {},
   "outputs": [
    {
     "name": "stdout",
     "output_type": "stream",
     "text": [
      "[<a href=\"./buzz?b=26&amp;c=1\">全部电影</a>, <a href=\"./buzz?b=338&amp;c=1\">爱情电影</a>, <a href=\"./buzz?b=340&amp;c=1\">喜剧电影</a>, <a href=\"./buzz?b=339&amp;c=1\">惊悚电影</a>, <a href=\"./buzz?b=437&amp;c=1\">科幻电影</a>, <a href=\"./buzz?b=337&amp;c=1\">剧情电影</a>]\n"
     ]
    }
   ],
   "source": [
    "path_1 = '#main > div:nth-child(1) > div.hd > h2 > a'\n",
    "path_2 = '#main > div:nth-child(4) > div.hd > h2 > a'\n",
    "cla_path = \"#main > div > div.hd > h2 > a\"\n",
    "classes = soup.select(cla_path)\n",
    "print(classes)"
   ]
  },
  {
   "cell_type": "code",
   "execution_count": 4,
   "id": "regulation-newfoundland",
   "metadata": {},
   "outputs": [
    {
     "name": "stdout",
     "output_type": "stream",
     "text": [
      "全部电影 : http://top.baidu.com/buzz?b=26\n",
      "爱情电影 : http://top.baidu.com/buzz?b=338\n",
      "喜剧电影 : http://top.baidu.com/buzz?b=340\n",
      "惊悚电影 : http://top.baidu.com/buzz?b=339\n",
      "科幻电影 : http://top.baidu.com/buzz?b=437\n",
      "剧情电影 : http://top.baidu.com/buzz?b=337\n"
     ]
    }
   ],
   "source": [
    "cla_rule = r\"buzz\\?b=\\d*\"\n",
    "head = \"http://top.baidu.com/\"\n",
    "classes_ = {}\n",
    "# tail = \"&c=1\"  # useless\n",
    "rule = r\"buzz\\?b=\\d*\"\n",
    "for i in classes:\n",
    "    link = re.compile(rule).findall(str(i))\n",
    "    classes_[i.text] = head + link[0]\n",
    "for key in list(classes_.keys()):\n",
    "    print(key, ':', classes_[key])"
   ]
  },
  {
   "cell_type": "code",
   "execution_count": 5,
   "id": "delayed-shield",
   "metadata": {},
   "outputs": [
    {
     "name": "stdout",
     "output_type": "stream",
     "text": [
      "url: http://top.baidu.com/buzz?b=340\n",
      "get response successfully!  2021-04-07 21:03:05\n",
      "今日喜剧电影排行榜\n"
     ]
    }
   ],
   "source": [
    "url = \"http://top.baidu.com/buzz?b=340\"\n",
    "html = get_html(url)\n",
    "soup = BS(html, 'html.parser')\n",
    "title_path = \"#main > div.mainBody > div > div > h2\"\n",
    "title = soup.select(title_path)[0].text\n",
    "print(title)"
   ]
  },
  {
   "cell_type": "code",
   "execution_count": 6,
   "id": "seasonal-marina",
   "metadata": {},
   "outputs": [
    {
     "name": "stdout",
     "output_type": "stream",
     "text": [
      "50\n",
      "['咸鱼', '唐人街探案3', '人潮汹涌']\n"
     ]
    }
   ],
   "source": [
    "movie = []\n",
    "m_list = soup.find_all('a', 'list-title')\n",
    "for i in m_list:\n",
    "    movie.append(i.text.strip())\n",
    "print(len(movie))\n",
    "print(movie[:3])"
   ]
  },
  {
   "cell_type": "code",
   "execution_count": 7,
   "id": "dimensional-explorer",
   "metadata": {},
   "outputs": [
    {
     "name": "stdout",
     "output_type": "stream",
     "text": [
      "50\n",
      "<class 'str'> 5049\n",
      "<class 'str'> 3236\n",
      "<class 'str'> 1644\n",
      "<class 'str'> 1236\n",
      "<class 'str'> 1205\n",
      "<class 'str'> 1091\n",
      "<class 'str'> 973\n",
      "<class 'str'> 972\n",
      "<class 'str'> 968\n",
      "<class 'str'> 968\n",
      "<class 'str'> 967\n",
      "<class 'str'> 956\n",
      "<class 'str'> 943\n",
      "<class 'str'> 934\n",
      "<class 'str'> 929\n",
      "<class 'str'> 924\n",
      "<class 'str'> 905\n",
      "<class 'str'> 895\n",
      "<class 'str'> 885\n",
      "<class 'str'> 868\n",
      "<class 'str'> 866\n",
      "<class 'str'> 860\n",
      "<class 'str'> 859\n",
      "<class 'str'> 856\n",
      "<class 'str'> 856\n",
      "<class 'str'> 855\n",
      "<class 'str'> 842\n",
      "<class 'str'> 828\n",
      "<class 'str'> 828\n",
      "<class 'str'> 805\n",
      "<class 'str'> 794\n",
      "<class 'str'> 780\n",
      "<class 'str'> 749\n",
      "<class 'str'> 737\n",
      "<class 'str'> 710\n",
      "<class 'str'> 689\n",
      "<class 'str'> 687\n",
      "<class 'str'> 675\n",
      "<class 'str'> 670\n",
      "<class 'str'> 662\n",
      "<class 'str'> 661\n",
      "<class 'str'> 639\n",
      "<class 'str'> 639\n",
      "<class 'str'> 636\n",
      "<class 'str'> 627\n",
      "<class 'str'> 619\n",
      "<class 'str'> 613\n",
      "<class 'str'> 609\n",
      "<class 'str'> 605\n",
      "<class 'str'> 602\n"
     ]
    }
   ],
   "source": [
    "hot = []\n",
    "hot_list = soup.find_all('td', 'last')\n",
    "for i in hot_list:\n",
    "    hot.append(i.text.strip())\n",
    "print(len(hot))\n",
    "for i in hot:\n",
    "    print(type(i), i)"
   ]
  },
  {
   "cell_type": "code",
   "execution_count": null,
   "id": "adequate-flooring",
   "metadata": {},
   "outputs": [],
   "source": []
  },
  {
   "cell_type": "code",
   "execution_count": null,
   "id": "weekly-conditioning",
   "metadata": {},
   "outputs": [],
   "source": []
  },
  {
   "cell_type": "code",
   "execution_count": null,
   "id": "turned-blade",
   "metadata": {},
   "outputs": [],
   "source": []
  }
 ],
 "metadata": {
  "kernelspec": {
   "display_name": "Python 3",
   "language": "python",
   "name": "python3"
  },
  "language_info": {
   "codemirror_mode": {
    "name": "ipython",
    "version": 3
   },
   "file_extension": ".py",
   "mimetype": "text/x-python",
   "name": "python",
   "nbconvert_exporter": "python",
   "pygments_lexer": "ipython3",
   "version": "3.8.6"
  }
 },
 "nbformat": 4,
 "nbformat_minor": 5
}
